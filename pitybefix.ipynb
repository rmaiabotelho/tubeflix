{
 "cells": [
  {
   "cell_type": "markdown",
   "id": "98069d94",
   "metadata": {},
   "source": [
    "#### Baixe o vídeo MP4 na mais alta resolução:"
   ]
  },
  {
   "cell_type": "code",
   "execution_count": 2,
   "id": "e3cdaab1",
   "metadata": {},
   "outputs": [
    {
     "name": "stdout",
     "output_type": "stream",
     "text": [
      "Curso de Git e Github [Completo] - Aprenda o Essencial em 2 horas\n",
      " ↳ |████████████████████████████████████████████| 100.0%\r"
     ]
    },
    {
     "data": {
      "text/plain": [
       "'d:\\\\Projetos\\\\tubeflix\\\\Curso de Git e Github [Completo] - Aprenda o Essencial em 2 horas.mp4'"
      ]
     },
     "execution_count": 2,
     "metadata": {},
     "output_type": "execute_result"
    }
   ],
   "source": [
    "from pytubefix import YouTube\n",
    "from pytubefix.cli import on_progress\n",
    "\n",
    "url = \"https://www.youtube.com/watch?v=192HgwRgOYE\"\n",
    "\n",
    "yt = YouTube(url, on_progress_callback=on_progress)\n",
    "print(yt.title)\n",
    "\n",
    "ys = yt.streams.get_highest_resolution()\n",
    "ys.download()"
   ]
  },
  {
   "cell_type": "markdown",
   "id": "b28c0db5",
   "metadata": {},
   "source": [
    "#### Baixar somente áudio (.m4a):"
   ]
  },
  {
   "cell_type": "code",
   "execution_count": null,
   "id": "ad2e4a8d",
   "metadata": {},
   "outputs": [],
   "source": [
    "from pytubefix import YouTube\n",
    "from pytubefix.cli import on_progress\n",
    "\n",
    "url = \"url\"\n",
    "\n",
    "yt = YouTube(url, on_progress_callback=on_progress)\n",
    "print(yt.title)\n",
    "\n",
    "ys = yt.streams.get_audio_only()\n",
    "ys.download()"
   ]
  },
  {
   "cell_type": "markdown",
   "id": "567631c7",
   "metadata": {},
   "source": [
    "#### Baixe uma playlist completa:"
   ]
  },
  {
   "cell_type": "code",
   "execution_count": null,
   "id": "e557c833",
   "metadata": {},
   "outputs": [],
   "source": [
    "from pytubefix import Playlist\n",
    "from pytubefix.cli import on_progress\n",
    "\n",
    "url = \"url\"\n",
    "\n",
    "pl = Playlist(url)\n",
    "for video in pl.videos:\n",
    "    ys = video.streams.get_audio_only()\n",
    "    ys.download()"
   ]
  }
 ],
 "metadata": {
  "kernelspec": {
   "display_name": "venv",
   "language": "python",
   "name": "python3"
  },
  "language_info": {
   "codemirror_mode": {
    "name": "ipython",
    "version": 3
   },
   "file_extension": ".py",
   "mimetype": "text/x-python",
   "name": "python",
   "nbconvert_exporter": "python",
   "pygments_lexer": "ipython3",
   "version": "3.13.3"
  }
 },
 "nbformat": 4,
 "nbformat_minor": 5
}
